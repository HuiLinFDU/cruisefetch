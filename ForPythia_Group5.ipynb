{
  "nbformat": 4,
  "nbformat_minor": 0,
  "metadata": {
    "colab": {
      "provenance": [],
      "authorship_tag": "ABX9TyOb68ZSa8hh5qsYod4LDOM8",
      "include_colab_link": true
    },
    "kernelspec": {
      "name": "python3",
      "display_name": "Python 3"
    },
    "language_info": {
      "name": "python"
    }
  },
  "cells": [
    {
      "cell_type": "markdown",
      "metadata": {
        "id": "view-in-github",
        "colab_type": "text"
      },
      "source": [
        "<a href=\"https://colab.research.google.com/github/HuiLinFDU/cruisefetch/blob/main/ForPythia_Group5.ipynb\" target=\"_parent\"><img src=\"https://colab.research.google.com/assets/colab-badge.svg\" alt=\"Open In Colab\"/></a>"
      ]
    },
    {
      "cell_type": "code",
      "execution_count": null,
      "metadata": {
        "id": "pM4XtaHTy6Po",
        "colab": {
          "base_uri": "https://localhost:8080/"
        },
        "outputId": "64d45ef1-d364-4dd5-8217-e59de88521e4"
      },
      "outputs": [
        {
          "output_type": "stream",
          "name": "stdout",
          "text": [
            "File: /content/sample_data/logfiles/605.mcf_s-472B_mlop.out, Trace: None, Prefetcher: None\n",
            "File: /content/sample_data/logfiles/605.mcf_s-472B_pythia.out, Trace: None, Prefetcher: None\n",
            "File: /content/sample_data/logfiles/605.mcf_s-472B_nopref.out, Trace: None, Prefetcher: None\n",
            "File: /content/sample_data/logfiles/605.mcf_s-472B_dspatch.out, Trace: None, Prefetcher: None\n",
            "File: /content/sample_data/logfiles/605.mcf_s-472B_bingo.out, Trace: None, Prefetcher: None\n",
            "File: /content/sample_data/logfiles/605.mcf_s-472B_spp.out, Trace: None, Prefetcher: None\n"
          ]
        }
      ],
      "source": [
        "import re\n",
        "import csv\n",
        "\n",
        "\n",
        "def extract_core_data(log_file_path):\n",
        "    core_data = {}\n",
        "    with open(log_file_path, 'r') as file:\n",
        "        lines = file.readlines()\n",
        "        for line in lines:\n",
        "            if line.startswith('Core_0'):\n",
        "                parts = line.strip().split()\n",
        "                key = parts[0]\n",
        "                value = parts[1] if len(parts) > 1 else None\n",
        "                # 处理 -nan 字符串\n",
        "                if value == '-nan':\n",
        "                    value = 0\n",
        "                try:\n",
        "                    # 尝试将值转换为浮点数，如果是字符串则保留原样\n",
        "                    value = float(value)\n",
        "                except ValueError:\n",
        "                    pass\n",
        "                core_data[key] = value\n",
        "    return core_data\n",
        "\n",
        "\n",
        "def save_multiple_logs_to_csv(log_files, csv_file_path):\n",
        "    all_data = []\n",
        "    all_keys = set()\n",
        "\n",
        "    # 提取所有日志文件的数据并合并键\n",
        "    for log_file in log_files:\n",
        "        data = extract_core_data(log_file)\n",
        "        # 加入日志文件名作为首列数据\n",
        "        data['LogFileName'] = log_file\n",
        "        all_data.append(data)\n",
        "        all_keys.update(data.keys())\n",
        "\n",
        "    # 对键进行排序，确保表头顺序一致\n",
        "    sorted_keys = sorted(all_keys)\n",
        "    # 把 LogFileName 移到首位\n",
        "    if 'LogFileName' in sorted_keys:\n",
        "        sorted_keys.remove('LogFileName')\n",
        "        sorted_keys.insert(0, 'LogFileName')\n",
        "\n",
        "    with open(csv_file_path, 'w', newline='', encoding='utf - 8') as csvfile:\n",
        "        writer = csv.DictWriter(csvfile, fieldnames=sorted_keys)\n",
        "        writer.writeheader()\n",
        "\n",
        "        # 写入每行数据\n",
        "        for data in all_data:\n",
        "            row = {key: data.get(key, '') for key in sorted_keys}\n",
        "            writer.writerow(row)\n",
        "\n",
        "\n",
        "if __name__ == \"__main__\":\n",
        "    # 这里列出所有要处理的日志文件路径\n",
        "    log_files = [\n",
        "        '/content/sample_data/605.mcf_s-994B_bingo.out',\n",
        "        '/content/sample_data/605.mcf_s-994B_mlop.out',\n",
        "        '/content/sample_data/605.mcf_s-994B_nopref.out',\n",
        "        '/content/sample_data/605.mcf_s-994B_pythia.out',\n",
        "        '/content/sample_data/605.mcf_s-994B_spp.out',\n",
        "        '/content/sample_data/605.mcf_s-994B_pythia_MTPS150.out'\n",
        "    ]\n",
        "    csv_file_path = '/content/sample_data/log_statistics.csv'\n",
        "    save_multiple_logs_to_csv(log_files, csv_file_path)"
      ]
    }
  ]
}